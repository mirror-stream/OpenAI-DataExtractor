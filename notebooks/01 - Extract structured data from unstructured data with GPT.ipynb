{
 "cells": [
  {
   "cell_type": "markdown",
   "id": "57f00d14-b683-467f-8e28-c6852aa9ba80",
   "metadata": {},
   "source": [
    "# Libraries / Configurations"
   ]
  },
  {
   "cell_type": "code",
   "execution_count": 1,
   "id": "0e740ee5-9165-4b5c-8baa-1131f5183bdb",
   "metadata": {},
   "outputs": [],
   "source": [
    "import os\n",
    "import openai\n",
    "import json\n",
    "import pandas as pd\n",
    "\n",
    "from dotenv import load_dotenv, find_dotenv\n",
    "from tqdm.auto import tqdm\n",
    "\n",
    "# Load .env variables\n",
    "load_dotenv(find_dotenv())\n",
    "\n",
    "openai.organization  = os.getenv('OPENAI_ORGANIZATION_ID')\n",
    "openai.api_key = os.getenv('OPENAI_API_KEY')"
   ]
  },
  {
   "cell_type": "markdown",
   "id": "7ee6ffb4-d74e-4f98-8fe8-79990711a60b",
   "metadata": {},
   "source": [
    "# Execution for Book Summaries"
   ]
  },
  {
   "cell_type": "markdown",
   "id": "facff896-9527-450b-9d53-4d9ba64c75d7",
   "metadata": {},
   "source": [
    "Books to extract features:"
   ]
  },
  {
   "cell_type": "code",
   "execution_count": 2,
   "id": "ef8017fc-a9e1-4223-8e0c-41df0da0a719",
   "metadata": {},
   "outputs": [],
   "source": [
    "book_summaries = [\n",
    "    \"In 'Pride and Prejudice' by Jane Austen, Elizabeth Bennet and Mr. Darcy navigate societal pressures and find love.\",\n",
    "    \"J.K. Rowling's 'Harry Potter and the Sorcerer's Stone' introduces us to a young wizard discovering his identity.\",\n",
    "    \"In 'To Kill a Mockingbird' by Harper Lee, Scout Finch witnesses racial injustice in her hometown.\",\n",
    "    \"Bilbo Baggins embarks on an unexpected adventure in J.R.R. Tolkien's 'The Hobbit'.\",\n",
    "    \"'Brave New World' by Aldous Huxley depicts a future society driven by technological advancements.\"\n",
    "]"
   ]
  },
  {
   "cell_type": "markdown",
   "id": "b2e919f6-3927-4588-82e8-75d77e5d6a62",
   "metadata": {},
   "source": [
    "Extract features with GPT:"
   ]
  },
  {
   "cell_type": "code",
   "execution_count": 3,
   "id": "3036f630-80d5-4776-afe8-73eefce39c3b",
   "metadata": {},
   "outputs": [],
   "source": [
    "prompt = \"\"\"\n",
    "You are provided with a text in triple backticks. Extract the following details from the text along with their specified data types:\n",
    "\n",
    "- \"Title\" (string)\n",
    "- \"Author\" (string)\n",
    "- \"Main Character\" (string)\n",
    "- \"Plot Summary\" (string)\n",
    "\n",
    "Ensure the response is in JSON format and only includes information explicitly mentioned within the text.\n",
    "\n",
    "\n",
    "Text:\n",
    "```\n",
    "{text}\n",
    "```\n",
    "\n",
    "Output:\n",
    "\"\"\""
   ]
  },
  {
   "cell_type": "code",
   "execution_count": 17,
   "id": "48c4fc90-0ea4-4bf5-a676-bc3a20f0d537",
   "metadata": {},
   "outputs": [
    {
     "data": {
      "text/plain": [
       "[{'Title': 'Pride and Prejudice',\n",
       "  'Author': 'Jane Austen',\n",
       "  'Main Character': 'Elizabeth Bennet and Mr. Darcy',\n",
       "  'Plot Summary': 'Elizabeth Bennet and Mr. Darcy navigate societal pressures and find love.'},\n",
       " {'Title': \"Harry Potter and the Sorcerer's Stone\",\n",
       "  'Author': 'J.K. Rowling',\n",
       "  'Main Character': 'Harry Potter',\n",
       "  'Plot Summary': 'Introduces us to a young wizard discovering his identity.'},\n",
       " {'Title': 'To Kill a Mockingbird',\n",
       "  'Author': 'Harper Lee',\n",
       "  'Main Character': 'Scout Finch',\n",
       "  'Plot Summary': 'Scout Finch witnesses racial injustice in her hometown.'},\n",
       " {'Title': 'The Hobbit',\n",
       "  'Author': 'J.R.R. Tolkien',\n",
       "  'Main Character': 'Bilbo Baggins',\n",
       "  'Plot Summary': 'Bilbo Baggins embarks on an unexpected adventure'},\n",
       " {'Title': 'Brave New World',\n",
       "  'Author': 'Aldous Huxley',\n",
       "  'Main Character': 'Not specified',\n",
       "  'Plot Summary': 'The novel depicts a future society driven by technological advancements.'}]"
      ]
     },
     "execution_count": 17,
     "metadata": {},
     "output_type": "execute_result"
    }
   ],
   "source": [
    "results = []\n",
    "for text in tqdm(book_summaries):\n",
    "    response = openai.Completion.create(\n",
    "      model='gpt-3.5-turbo-instruct',\n",
    "      prompt=prompt.format(text=text),\n",
    "      max_tokens=128,\n",
    "      temperature=0\n",
    "    )\n",
    "\n",
    "    r = json.loads(response.choices[0].text.strip('```'))\n",
    "    results.append(r)\n",
    "\n",
    "results"
   ]
  },
  {
   "cell_type": "markdown",
   "id": "dc45b5dc-706f-4fdb-934a-c85c336660b9",
   "metadata": {},
   "source": [
    "Display results as dataframe:"
   ]
  },
  {
   "cell_type": "code",
   "execution_count": 18,
   "id": "65a8c2d3-50c7-4d42-a743-cacdd827dacd",
   "metadata": {
    "scrolled": true
   },
   "outputs": [
    {
     "data": {
      "text/html": [
       "<div>\n",
       "<style scoped>\n",
       "    .dataframe tbody tr th:only-of-type {\n",
       "        vertical-align: middle;\n",
       "    }\n",
       "\n",
       "    .dataframe tbody tr th {\n",
       "        vertical-align: top;\n",
       "    }\n",
       "\n",
       "    .dataframe thead th {\n",
       "        text-align: right;\n",
       "    }\n",
       "</style>\n",
       "<table border=\"1\" class=\"dataframe\">\n",
       "  <thead>\n",
       "    <tr style=\"text-align: right;\">\n",
       "      <th></th>\n",
       "      <th>Title</th>\n",
       "      <th>Author</th>\n",
       "      <th>Main Character</th>\n",
       "      <th>Plot Summary</th>\n",
       "    </tr>\n",
       "  </thead>\n",
       "  <tbody>\n",
       "    <tr>\n",
       "      <th>0</th>\n",
       "      <td>Pride and Prejudice</td>\n",
       "      <td>Jane Austen</td>\n",
       "      <td>Elizabeth Bennet and Mr. Darcy</td>\n",
       "      <td>Elizabeth Bennet and Mr. Darcy navigate societ...</td>\n",
       "    </tr>\n",
       "    <tr>\n",
       "      <th>1</th>\n",
       "      <td>Harry Potter and the Sorcerer's Stone</td>\n",
       "      <td>J.K. Rowling</td>\n",
       "      <td>Harry Potter</td>\n",
       "      <td>Introduces us to a young wizard discovering hi...</td>\n",
       "    </tr>\n",
       "    <tr>\n",
       "      <th>2</th>\n",
       "      <td>To Kill a Mockingbird</td>\n",
       "      <td>Harper Lee</td>\n",
       "      <td>Scout Finch</td>\n",
       "      <td>Scout Finch witnesses racial injustice in her ...</td>\n",
       "    </tr>\n",
       "    <tr>\n",
       "      <th>3</th>\n",
       "      <td>The Hobbit</td>\n",
       "      <td>J.R.R. Tolkien</td>\n",
       "      <td>Bilbo Baggins</td>\n",
       "      <td>Bilbo Baggins embarks on an unexpected adventure</td>\n",
       "    </tr>\n",
       "    <tr>\n",
       "      <th>4</th>\n",
       "      <td>Brave New World</td>\n",
       "      <td>Aldous Huxley</td>\n",
       "      <td>Not specified</td>\n",
       "      <td>The novel depicts a future society driven by t...</td>\n",
       "    </tr>\n",
       "  </tbody>\n",
       "</table>\n",
       "</div>"
      ],
      "text/plain": [
       "                                   Title          Author  \\\n",
       "0                    Pride and Prejudice     Jane Austen   \n",
       "1  Harry Potter and the Sorcerer's Stone    J.K. Rowling   \n",
       "2                  To Kill a Mockingbird      Harper Lee   \n",
       "3                             The Hobbit  J.R.R. Tolkien   \n",
       "4                        Brave New World   Aldous Huxley   \n",
       "\n",
       "                   Main Character  \\\n",
       "0  Elizabeth Bennet and Mr. Darcy   \n",
       "1                    Harry Potter   \n",
       "2                     Scout Finch   \n",
       "3                   Bilbo Baggins   \n",
       "4                   Not specified   \n",
       "\n",
       "                                        Plot Summary  \n",
       "0  Elizabeth Bennet and Mr. Darcy navigate societ...  \n",
       "1  Introduces us to a young wizard discovering hi...  \n",
       "2  Scout Finch witnesses racial injustice in her ...  \n",
       "3   Bilbo Baggins embarks on an unexpected adventure  \n",
       "4  The novel depicts a future society driven by t...  "
      ]
     },
     "execution_count": 18,
     "metadata": {},
     "output_type": "execute_result"
    }
   ],
   "source": [
    "df = pd.DataFrame(results)\n",
    "df['Document'] = book_summaries\n",
    "df"
   ]
  },
  {
   "cell_type": "markdown",
   "id": "b676d5f5-c230-4a31-9abb-45dc418734b9",
   "metadata": {},
   "source": [
    "Save results:"
   ]
  },
  {
   "cell_type": "code",
   "execution_count": 10,
   "id": "eb1ec111-f6c5-4fe9-b01a-2e78bc7f6f4b",
   "metadata": {},
   "outputs": [],
   "source": [
    "df.to_csv('../data/book_summaries.csv', index=False)"
   ]
  },
  {
   "cell_type": "markdown",
   "id": "73f54707-bb35-411b-a50f-adceabb2bf30",
   "metadata": {},
   "source": [
    "# Execution for Resumes/CVs"
   ]
  },
  {
   "cell_type": "markdown",
   "id": "69463e9c-2682-4e03-989c-412aae32241d",
   "metadata": {},
   "source": [
    "Resumes/CVs to extract features:"
   ]
  },
  {
   "cell_type": "code",
   "execution_count": 11,
   "id": "5ff12722-2a76-46d4-8c23-416bf6d7f29e",
   "metadata": {},
   "outputs": [],
   "source": [
    "documents = [\n",
    "    \"Emma Smith worked at FinBank as an Analyst from 2012-2014.\",\n",
    "    \"Robert Brown has been a Senior Designer at ArtHouse since 2019.\",\n",
    "    \"Olivia Johnson was a Research Fellow at BioLab between 2015 and 2017.\",\n",
    "    \"Michael Williams was employed by HealthCare Inc. as a Nurse from 2009 to 2013.\",\n",
    "    \"Sophia Taylor has experience as a Sales Manager at AutoCorp from 2016-2020.\"\n",
    "]"
   ]
  },
  {
   "cell_type": "markdown",
   "id": "6cd88522-5ba9-4b70-b6fc-580742f0e178",
   "metadata": {},
   "source": [
    "Extract features with GPT:"
   ]
  },
  {
   "cell_type": "code",
   "execution_count": 12,
   "id": "7f08b216-5b57-4d05-a9be-808eabf6b59d",
   "metadata": {},
   "outputs": [],
   "source": [
    "prompt = \"\"\"\n",
    "You are provided with a text in triple backticks. Extract the following details from the text along with their specified data types:\n",
    "\n",
    "- \"Name\" (string)\n",
    "- \"Company\" (string)\n",
    "- \"Start Year\" (integer)\n",
    "- \"End Year\" (integer)\n",
    "- \"Position\" (string)\n",
    "\n",
    "Ensure the response is in JSON format and only includes information explicitly mentioned within the text.\n",
    "\n",
    "\n",
    "Text:\n",
    "```\n",
    "{text}\n",
    "```\n",
    "\n",
    "Output:\n",
    "\"\"\""
   ]
  },
  {
   "cell_type": "code",
   "execution_count": 13,
   "id": "0ed527e8-d3e1-4c2f-8963-dc1068db0229",
   "metadata": {
    "scrolled": true
   },
   "outputs": [
    {
     "data": {
      "application/vnd.jupyter.widget-view+json": {
       "model_id": "a0aeecb3169849c6b3cfe5e3ab4e2902",
       "version_major": 2,
       "version_minor": 0
      },
      "text/plain": [
       "  0%|          | 0/5 [00:00<?, ?it/s]"
      ]
     },
     "metadata": {},
     "output_type": "display_data"
    },
    {
     "data": {
      "text/plain": [
       "[{'Name': 'Emma Smith',\n",
       "  'Company': 'FinBank',\n",
       "  'Start Year': 2012,\n",
       "  'End Year': 2014,\n",
       "  'Position': 'Analyst'},\n",
       " {'Name': 'Robert Brown',\n",
       "  'Company': 'ArtHouse',\n",
       "  'Start Year': 2019,\n",
       "  'End Year': None,\n",
       "  'Position': 'Senior Designer'},\n",
       " {'Name': 'Olivia Johnson',\n",
       "  'Company': 'BioLab',\n",
       "  'Start Year': 2015,\n",
       "  'End Year': 2017,\n",
       "  'Position': 'Research Fellow'},\n",
       " {'Name': 'Michael Williams',\n",
       "  'Company': 'HealthCare Inc.',\n",
       "  'Start Year': 2009,\n",
       "  'End Year': 2013,\n",
       "  'Position': 'Nurse'},\n",
       " {'Name': 'Sophia Taylor',\n",
       "  'Company': 'AutoCorp',\n",
       "  'Start Year': 2016,\n",
       "  'End Year': 2020,\n",
       "  'Position': 'Sales Manager'}]"
      ]
     },
     "execution_count": 13,
     "metadata": {},
     "output_type": "execute_result"
    }
   ],
   "source": [
    "results = []\n",
    "for text in tqdm(documents):\n",
    "    response = openai.Completion.create(\n",
    "      model='gpt-3.5-turbo-instruct',\n",
    "      prompt=prompt.format(text=text),\n",
    "      max_tokens=128,\n",
    "      temperature=0\n",
    "    )\n",
    "\n",
    "    r = json.loads(response.choices[0].text.strip('```'))\n",
    "    results.append(r)\n",
    "\n",
    "results"
   ]
  },
  {
   "cell_type": "markdown",
   "id": "61e313d1-f1fb-4b19-8425-fdaa472f9cc7",
   "metadata": {},
   "source": [
    "Save results in CSV file:"
   ]
  },
  {
   "cell_type": "code",
   "execution_count": 15,
   "id": "8d475d64-0cee-48fa-add5-6ce399c3c13b",
   "metadata": {},
   "outputs": [
    {
     "data": {
      "text/html": [
       "<div>\n",
       "<style scoped>\n",
       "    .dataframe tbody tr th:only-of-type {\n",
       "        vertical-align: middle;\n",
       "    }\n",
       "\n",
       "    .dataframe tbody tr th {\n",
       "        vertical-align: top;\n",
       "    }\n",
       "\n",
       "    .dataframe thead th {\n",
       "        text-align: right;\n",
       "    }\n",
       "</style>\n",
       "<table border=\"1\" class=\"dataframe\">\n",
       "  <thead>\n",
       "    <tr style=\"text-align: right;\">\n",
       "      <th></th>\n",
       "      <th>Name</th>\n",
       "      <th>Company</th>\n",
       "      <th>Start Year</th>\n",
       "      <th>End Year</th>\n",
       "      <th>Position</th>\n",
       "      <th>Document</th>\n",
       "    </tr>\n",
       "  </thead>\n",
       "  <tbody>\n",
       "    <tr>\n",
       "      <th>0</th>\n",
       "      <td>Emma Smith</td>\n",
       "      <td>FinBank</td>\n",
       "      <td>2012</td>\n",
       "      <td>2014.0</td>\n",
       "      <td>Analyst</td>\n",
       "      <td>Emma Smith worked at FinBank as an Analyst fro...</td>\n",
       "    </tr>\n",
       "    <tr>\n",
       "      <th>1</th>\n",
       "      <td>Robert Brown</td>\n",
       "      <td>ArtHouse</td>\n",
       "      <td>2019</td>\n",
       "      <td>NaN</td>\n",
       "      <td>Senior Designer</td>\n",
       "      <td>Robert Brown has been a Senior Designer at Art...</td>\n",
       "    </tr>\n",
       "    <tr>\n",
       "      <th>2</th>\n",
       "      <td>Olivia Johnson</td>\n",
       "      <td>BioLab</td>\n",
       "      <td>2015</td>\n",
       "      <td>2017.0</td>\n",
       "      <td>Research Fellow</td>\n",
       "      <td>Olivia Johnson was a Research Fellow at BioLab...</td>\n",
       "    </tr>\n",
       "    <tr>\n",
       "      <th>3</th>\n",
       "      <td>Michael Williams</td>\n",
       "      <td>HealthCare Inc.</td>\n",
       "      <td>2009</td>\n",
       "      <td>2013.0</td>\n",
       "      <td>Nurse</td>\n",
       "      <td>Michael Williams was employed by HealthCare In...</td>\n",
       "    </tr>\n",
       "    <tr>\n",
       "      <th>4</th>\n",
       "      <td>Sophia Taylor</td>\n",
       "      <td>AutoCorp</td>\n",
       "      <td>2016</td>\n",
       "      <td>2020.0</td>\n",
       "      <td>Sales Manager</td>\n",
       "      <td>Sophia Taylor has experience as a Sales Manage...</td>\n",
       "    </tr>\n",
       "  </tbody>\n",
       "</table>\n",
       "</div>"
      ],
      "text/plain": [
       "               Name          Company  Start Year  End Year         Position  \\\n",
       "0        Emma Smith          FinBank        2012    2014.0          Analyst   \n",
       "1      Robert Brown         ArtHouse        2019       NaN  Senior Designer   \n",
       "2    Olivia Johnson           BioLab        2015    2017.0  Research Fellow   \n",
       "3  Michael Williams  HealthCare Inc.        2009    2013.0            Nurse   \n",
       "4     Sophia Taylor         AutoCorp        2016    2020.0    Sales Manager   \n",
       "\n",
       "                                            Document  \n",
       "0  Emma Smith worked at FinBank as an Analyst fro...  \n",
       "1  Robert Brown has been a Senior Designer at Art...  \n",
       "2  Olivia Johnson was a Research Fellow at BioLab...  \n",
       "3  Michael Williams was employed by HealthCare In...  \n",
       "4  Sophia Taylor has experience as a Sales Manage...  "
      ]
     },
     "execution_count": 15,
     "metadata": {},
     "output_type": "execute_result"
    }
   ],
   "source": [
    "df = pd.DataFrame(results)\n",
    "df['Document'] = documents\n",
    "df"
   ]
  },
  {
   "cell_type": "code",
   "execution_count": 16,
   "id": "ad93413c-582b-4941-a2d7-97d7ced9b259",
   "metadata": {},
   "outputs": [],
   "source": [
    "df.to_csv('../data/resumes.csv', index=False)"
   ]
  },
  {
   "cell_type": "markdown",
   "id": "3febc2fc-c3c3-48bc-a924-16a692e10f90",
   "metadata": {},
   "source": [
    "# Execution for News Articles"
   ]
  },
  {
   "cell_type": "markdown",
   "id": "9033a477-95e6-4d1b-9fb2-1afe79111436",
   "metadata": {},
   "source": [
    "News articles to extract features:"
   ]
  },
  {
   "cell_type": "code",
   "execution_count": 17,
   "id": "b5b0b34c-448f-4970-b2c0-1441a234cf75",
   "metadata": {},
   "outputs": [],
   "source": [
    "documents = [\n",
    "    \"A fire broke out at a warehouse in New York on June 10th.\",\n",
    "    \"On August 3rd, a tornado struck Oklahoma, leaving 5 dead and 20 injured.\",\n",
    "    \"Queen Elizabeth celebrated her 95th birthday on April 21st.\",\n",
    "    \"A breakthrough in cancer research was announced on September 15th.\",\n",
    "    \"A new species of frog was discovered in the Amazon rainforest on January 23rd.\"\n",
    "]"
   ]
  },
  {
   "cell_type": "markdown",
   "id": "0efcdc5c-1cf8-42a4-85f3-296f55109a8e",
   "metadata": {},
   "source": [
    "Extract features with GPT:"
   ]
  },
  {
   "cell_type": "code",
   "execution_count": 18,
   "id": "cdf857ec-a152-4b88-9054-4e49ca5001eb",
   "metadata": {},
   "outputs": [],
   "source": [
    "prompt = \"\"\"\n",
    "You are provided with a text in triple backticks. Extract the following details from the text along with their specified data types:\n",
    "\n",
    "- \"Date\" (date)\n",
    "- \"Location\" (string)\n",
    "- \"Event\" (string)\n",
    "- \"Impact\" (string)\n",
    "\n",
    "Ensure the response is in JSON format and only includes information explicitly mentioned within the text.\n",
    "\n",
    "\n",
    "Text:\n",
    "```\n",
    "{text}\n",
    "```\n",
    "\n",
    "Output:\n",
    "\"\"\""
   ]
  },
  {
   "cell_type": "code",
   "execution_count": 19,
   "id": "1a2c9c3d-ac12-4597-a3db-0a69f6f80e31",
   "metadata": {},
   "outputs": [
    {
     "data": {
      "application/vnd.jupyter.widget-view+json": {
       "model_id": "184767847ad74211aca994e5f557fe18",
       "version_major": 2,
       "version_minor": 0
      },
      "text/plain": [
       "  0%|          | 0/5 [00:00<?, ?it/s]"
      ]
     },
     "metadata": {},
     "output_type": "display_data"
    },
    {
     "data": {
      "text/plain": [
       "[{'Date': 'June 10th',\n",
       "  'Location': 'New York',\n",
       "  'Event': 'fire',\n",
       "  'Impact': 'warehouse'},\n",
       " {'Date': 'August 3rd',\n",
       "  'Location': 'Oklahoma',\n",
       "  'Event': 'tornado',\n",
       "  'Impact': '5 dead and 20 injured'},\n",
       " {'Date': 'April 21st',\n",
       "  'Location': 'N/A',\n",
       "  'Event': \"Queen Elizabeth's 95th birthday\",\n",
       "  'Impact': 'N/A'},\n",
       " {'Date': 'September 15th',\n",
       "  'Location': 'Not mentioned',\n",
       "  'Event': 'Breakthrough in cancer research',\n",
       "  'Impact': 'Not mentioned'},\n",
       " {'Date': 'January 23rd',\n",
       "  'Location': 'Amazon rainforest',\n",
       "  'Event': 'discovered',\n",
       "  'Impact': 'new species of frog'}]"
      ]
     },
     "execution_count": 19,
     "metadata": {},
     "output_type": "execute_result"
    }
   ],
   "source": [
    "results = []\n",
    "for text in tqdm(documents):\n",
    "    response = openai.Completion.create(\n",
    "      model='gpt-3.5-turbo-instruct',\n",
    "      prompt=prompt.format(text=text),\n",
    "      max_tokens=128,\n",
    "      temperature=0\n",
    "    )\n",
    "\n",
    "    r = json.loads(response.choices[0].text.strip('```'))\n",
    "    results.append(r)\n",
    "\n",
    "results"
   ]
  },
  {
   "cell_type": "markdown",
   "id": "6ce2894e-06ef-40c3-8ca7-7bf5270b6043",
   "metadata": {},
   "source": [
    "Save results in CSV file:"
   ]
  },
  {
   "cell_type": "code",
   "execution_count": 20,
   "id": "adf440bd-d179-4323-b83b-99b225c14ef1",
   "metadata": {},
   "outputs": [
    {
     "data": {
      "text/html": [
       "<div>\n",
       "<style scoped>\n",
       "    .dataframe tbody tr th:only-of-type {\n",
       "        vertical-align: middle;\n",
       "    }\n",
       "\n",
       "    .dataframe tbody tr th {\n",
       "        vertical-align: top;\n",
       "    }\n",
       "\n",
       "    .dataframe thead th {\n",
       "        text-align: right;\n",
       "    }\n",
       "</style>\n",
       "<table border=\"1\" class=\"dataframe\">\n",
       "  <thead>\n",
       "    <tr style=\"text-align: right;\">\n",
       "      <th></th>\n",
       "      <th>Date</th>\n",
       "      <th>Location</th>\n",
       "      <th>Event</th>\n",
       "      <th>Impact</th>\n",
       "      <th>Document</th>\n",
       "    </tr>\n",
       "  </thead>\n",
       "  <tbody>\n",
       "    <tr>\n",
       "      <th>0</th>\n",
       "      <td>June 10th</td>\n",
       "      <td>New York</td>\n",
       "      <td>fire</td>\n",
       "      <td>warehouse</td>\n",
       "      <td>A fire broke out at a warehouse in New York on...</td>\n",
       "    </tr>\n",
       "    <tr>\n",
       "      <th>1</th>\n",
       "      <td>August 3rd</td>\n",
       "      <td>Oklahoma</td>\n",
       "      <td>tornado</td>\n",
       "      <td>5 dead and 20 injured</td>\n",
       "      <td>On August 3rd, a tornado struck Oklahoma, leav...</td>\n",
       "    </tr>\n",
       "    <tr>\n",
       "      <th>2</th>\n",
       "      <td>April 21st</td>\n",
       "      <td>N/A</td>\n",
       "      <td>Queen Elizabeth's 95th birthday</td>\n",
       "      <td>N/A</td>\n",
       "      <td>Queen Elizabeth celebrated her 95th birthday o...</td>\n",
       "    </tr>\n",
       "    <tr>\n",
       "      <th>3</th>\n",
       "      <td>September 15th</td>\n",
       "      <td>Not mentioned</td>\n",
       "      <td>Breakthrough in cancer research</td>\n",
       "      <td>Not mentioned</td>\n",
       "      <td>A breakthrough in cancer research was announce...</td>\n",
       "    </tr>\n",
       "    <tr>\n",
       "      <th>4</th>\n",
       "      <td>January 23rd</td>\n",
       "      <td>Amazon rainforest</td>\n",
       "      <td>discovered</td>\n",
       "      <td>new species of frog</td>\n",
       "      <td>A new species of frog was discovered in the Am...</td>\n",
       "    </tr>\n",
       "  </tbody>\n",
       "</table>\n",
       "</div>"
      ],
      "text/plain": [
       "             Date           Location                            Event  \\\n",
       "0       June 10th           New York                             fire   \n",
       "1      August 3rd           Oklahoma                          tornado   \n",
       "2      April 21st                N/A  Queen Elizabeth's 95th birthday   \n",
       "3  September 15th      Not mentioned  Breakthrough in cancer research   \n",
       "4    January 23rd  Amazon rainforest                       discovered   \n",
       "\n",
       "                  Impact                                           Document  \n",
       "0              warehouse  A fire broke out at a warehouse in New York on...  \n",
       "1  5 dead and 20 injured  On August 3rd, a tornado struck Oklahoma, leav...  \n",
       "2                    N/A  Queen Elizabeth celebrated her 95th birthday o...  \n",
       "3          Not mentioned  A breakthrough in cancer research was announce...  \n",
       "4    new species of frog  A new species of frog was discovered in the Am...  "
      ]
     },
     "execution_count": 20,
     "metadata": {},
     "output_type": "execute_result"
    }
   ],
   "source": [
    "df = pd.DataFrame(results)\n",
    "df['Document'] = documents\n",
    "df"
   ]
  },
  {
   "cell_type": "code",
   "execution_count": 21,
   "id": "e75eea2f-6b14-4f75-8894-086f2465a3d5",
   "metadata": {},
   "outputs": [],
   "source": [
    "df.to_csv('../data/news.csv', index=False)"
   ]
  }
 ],
 "metadata": {
  "kernelspec": {
   "display_name": "Python 3 (ipykernel)",
   "language": "python",
   "name": "python3"
  },
  "language_info": {
   "codemirror_mode": {
    "name": "ipython",
    "version": 3
   },
   "file_extension": ".py",
   "mimetype": "text/x-python",
   "name": "python",
   "nbconvert_exporter": "python",
   "pygments_lexer": "ipython3",
   "version": "3.11.5"
  }
 },
 "nbformat": 4,
 "nbformat_minor": 5
}
