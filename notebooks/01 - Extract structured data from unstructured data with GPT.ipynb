{
 "cells": [
  {
   "cell_type": "markdown",
   "id": "57f00d14-b683-467f-8e28-c6852aa9ba80",
   "metadata": {},
   "source": [
    "# Libraries / Configurations"
   ]
  },
  {
   "cell_type": "code",
   "execution_count": 15,
   "id": "0e740ee5-9165-4b5c-8baa-1131f5183bdb",
   "metadata": {},
   "outputs": [],
   "source": [
    "import os\n",
    "import openai\n",
    "import json\n",
    "import pandas as pd\n",
    "\n",
    "from dotenv import load_dotenv, find_dotenv\n",
    "from tqdm.auto import tqdm\n",
    "\n",
    "# Load .env variables\n",
    "load_dotenv(find_dotenv())\n",
    "\n",
    "openai.organization  = os.getenv('OPENAI_ORGANIZATION_ID')\n",
    "openai.api_key = os.getenv('OPENAI_API_KEY')"
   ]
  },
  {
   "cell_type": "markdown",
   "id": "7ee6ffb4-d74e-4f98-8fe8-79990711a60b",
   "metadata": {},
   "source": [
    "# Execution for Book Summaries"
   ]
  },
  {
   "cell_type": "markdown",
   "id": "facff896-9527-450b-9d53-4d9ba64c75d7",
   "metadata": {},
   "source": [
    "Books to extract features:"
   ]
  },
  {
   "cell_type": "code",
   "execution_count": 2,
   "id": "ef8017fc-a9e1-4223-8e0c-41df0da0a719",
   "metadata": {},
   "outputs": [],
   "source": [
    "book_summaries = [\n",
    "    \"In 'Pride and Prejudice' by Jane Austen, Elizabeth Bennet and Mr. Darcy navigate societal pressures and find love.\",\n",
    "    \"J.K. Rowling's 'Harry Potter and the Sorcerer's Stone' introduces us to a young wizard discovering his identity.\",\n",
    "    \"In 'To Kill a Mockingbird' by Harper Lee, Scout Finch witnesses racial injustice in her hometown.\",\n",
    "    \"Bilbo Baggins embarks on an unexpected adventure in J.R.R. Tolkien's 'The Hobbit'.\",\n",
    "    \"'Brave New World' by Aldous Huxley depicts a future society driven by technological advancements.\"\n",
    "]"
   ]
  },
  {
   "cell_type": "markdown",
   "id": "b2e919f6-3927-4588-82e8-75d77e5d6a62",
   "metadata": {},
   "source": [
    "Extract features with GPT:"
   ]
  },
  {
   "cell_type": "code",
   "execution_count": 3,
   "id": "3036f630-80d5-4776-afe8-73eefce39c3b",
   "metadata": {},
   "outputs": [],
   "source": [
    "prompt = \"\"\"\n",
    "You are provided with a text in triple backticks. Extract the following details from the text along with their specified data types:\n",
    "\n",
    "- \"Title\" (string)\n",
    "- \"Author\" (string)\n",
    "- \"Main Character\" (string)\n",
    "- \"Plot Summary\" (string)\n",
    "\n",
    "Ensure the response is in JSON format and only includes information explicitly mentioned within the text.\n",
    "\n",
    "\n",
    "Text:\n",
    "```\n",
    "{text}\n",
    "```\n",
    "\n",
    "Output:\n",
    "\"\"\""
   ]
  },
  {
   "cell_type": "code",
   "execution_count": 17,
   "id": "48c4fc90-0ea4-4bf5-a676-bc3a20f0d537",
   "metadata": {},
   "outputs": [
    {
     "data": {
      "text/plain": [
       "[{'Title': 'Pride and Prejudice',\n",
       "  'Author': 'Jane Austen',\n",
       "  'Main Character': 'Elizabeth Bennet and Mr. Darcy',\n",
       "  'Plot Summary': 'Elizabeth Bennet and Mr. Darcy navigate societal pressures and find love.'},\n",
       " {'Title': \"Harry Potter and the Sorcerer's Stone\",\n",
       "  'Author': 'J.K. Rowling',\n",
       "  'Main Character': 'Harry Potter',\n",
       "  'Plot Summary': 'Introduces us to a young wizard discovering his identity.'},\n",
       " {'Title': 'To Kill a Mockingbird',\n",
       "  'Author': 'Harper Lee',\n",
       "  'Main Character': 'Scout Finch',\n",
       "  'Plot Summary': 'Scout Finch witnesses racial injustice in her hometown.'},\n",
       " {'Title': 'The Hobbit',\n",
       "  'Author': 'J.R.R. Tolkien',\n",
       "  'Main Character': 'Bilbo Baggins',\n",
       "  'Plot Summary': 'Bilbo Baggins embarks on an unexpected adventure'},\n",
       " {'Title': 'Brave New World',\n",
       "  'Author': 'Aldous Huxley',\n",
       "  'Main Character': 'Not specified',\n",
       "  'Plot Summary': 'The novel depicts a future society driven by technological advancements.'}]"
      ]
     },
     "execution_count": 17,
     "metadata": {},
     "output_type": "execute_result"
    }
   ],
   "source": [
    "results = []\n",
    "for text in tqdm(book_summaries):\n",
    "    response = openai.Completion.create(\n",
    "      model='gpt-3.5-turbo-instruct',\n",
    "      prompt=prompt.format(text=text),\n",
    "      max_tokens=128,\n",
    "      temperature=0\n",
    "    )\n",
    "\n",
    "    r = json.loads(response.choices[0].text.strip('```'))\n",
    "    results.append(r)\n",
    "\n",
    "results"
   ]
  },
  {
   "cell_type": "markdown",
   "id": "dc45b5dc-706f-4fdb-934a-c85c336660b9",
   "metadata": {},
   "source": [
    "Display results as dataframe:"
   ]
  },
  {
   "cell_type": "code",
   "execution_count": 18,
   "id": "65a8c2d3-50c7-4d42-a743-cacdd827dacd",
   "metadata": {},
   "outputs": [
    {
     "data": {
      "text/html": [
       "<div>\n",
       "<style scoped>\n",
       "    .dataframe tbody tr th:only-of-type {\n",
       "        vertical-align: middle;\n",
       "    }\n",
       "\n",
       "    .dataframe tbody tr th {\n",
       "        vertical-align: top;\n",
       "    }\n",
       "\n",
       "    .dataframe thead th {\n",
       "        text-align: right;\n",
       "    }\n",
       "</style>\n",
       "<table border=\"1\" class=\"dataframe\">\n",
       "  <thead>\n",
       "    <tr style=\"text-align: right;\">\n",
       "      <th></th>\n",
       "      <th>Title</th>\n",
       "      <th>Author</th>\n",
       "      <th>Main Character</th>\n",
       "      <th>Plot Summary</th>\n",
       "    </tr>\n",
       "  </thead>\n",
       "  <tbody>\n",
       "    <tr>\n",
       "      <th>0</th>\n",
       "      <td>Pride and Prejudice</td>\n",
       "      <td>Jane Austen</td>\n",
       "      <td>Elizabeth Bennet and Mr. Darcy</td>\n",
       "      <td>Elizabeth Bennet and Mr. Darcy navigate societ...</td>\n",
       "    </tr>\n",
       "    <tr>\n",
       "      <th>1</th>\n",
       "      <td>Harry Potter and the Sorcerer's Stone</td>\n",
       "      <td>J.K. Rowling</td>\n",
       "      <td>Harry Potter</td>\n",
       "      <td>Introduces us to a young wizard discovering hi...</td>\n",
       "    </tr>\n",
       "    <tr>\n",
       "      <th>2</th>\n",
       "      <td>To Kill a Mockingbird</td>\n",
       "      <td>Harper Lee</td>\n",
       "      <td>Scout Finch</td>\n",
       "      <td>Scout Finch witnesses racial injustice in her ...</td>\n",
       "    </tr>\n",
       "    <tr>\n",
       "      <th>3</th>\n",
       "      <td>The Hobbit</td>\n",
       "      <td>J.R.R. Tolkien</td>\n",
       "      <td>Bilbo Baggins</td>\n",
       "      <td>Bilbo Baggins embarks on an unexpected adventure</td>\n",
       "    </tr>\n",
       "    <tr>\n",
       "      <th>4</th>\n",
       "      <td>Brave New World</td>\n",
       "      <td>Aldous Huxley</td>\n",
       "      <td>Not specified</td>\n",
       "      <td>The novel depicts a future society driven by t...</td>\n",
       "    </tr>\n",
       "  </tbody>\n",
       "</table>\n",
       "</div>"
      ],
      "text/plain": [
       "                                   Title          Author  \\\n",
       "0                    Pride and Prejudice     Jane Austen   \n",
       "1  Harry Potter and the Sorcerer's Stone    J.K. Rowling   \n",
       "2                  To Kill a Mockingbird      Harper Lee   \n",
       "3                             The Hobbit  J.R.R. Tolkien   \n",
       "4                        Brave New World   Aldous Huxley   \n",
       "\n",
       "                   Main Character  \\\n",
       "0  Elizabeth Bennet and Mr. Darcy   \n",
       "1                    Harry Potter   \n",
       "2                     Scout Finch   \n",
       "3                   Bilbo Baggins   \n",
       "4                   Not specified   \n",
       "\n",
       "                                        Plot Summary  \n",
       "0  Elizabeth Bennet and Mr. Darcy navigate societ...  \n",
       "1  Introduces us to a young wizard discovering hi...  \n",
       "2  Scout Finch witnesses racial injustice in her ...  \n",
       "3   Bilbo Baggins embarks on an unexpected adventure  \n",
       "4  The novel depicts a future society driven by t...  "
      ]
     },
     "execution_count": 18,
     "metadata": {},
     "output_type": "execute_result"
    }
   ],
   "source": [
    "df = pd.DataFrame(results)\n",
    "df"
   ]
  },
  {
   "cell_type": "markdown",
   "id": "b676d5f5-c230-4a31-9abb-45dc418734b9",
   "metadata": {},
   "source": [
    "Save results:"
   ]
  },
  {
   "cell_type": "code",
   "execution_count": 19,
   "id": "eb1ec111-f6c5-4fe9-b01a-2e78bc7f6f4b",
   "metadata": {},
   "outputs": [],
   "source": [
    "df.to_csv('../data/book_summaries.csv', index=False)"
   ]
  },
  {
   "cell_type": "markdown",
   "id": "73f54707-bb35-411b-a50f-adceabb2bf30",
   "metadata": {},
   "source": [
    "# Execution for Resumes/CVs"
   ]
  },
  {
   "cell_type": "code",
   "execution_count": null,
   "id": "a5e0727a-2023-4dea-b860-458724392d77",
   "metadata": {},
   "outputs": [],
   "source": []
  },
  {
   "cell_type": "markdown",
   "id": "3febc2fc-c3c3-48bc-a924-16a692e10f90",
   "metadata": {},
   "source": [
    "# Execution for News Articles"
   ]
  },
  {
   "cell_type": "code",
   "execution_count": null,
   "id": "1a2c9c3d-ac12-4597-a3db-0a69f6f80e31",
   "metadata": {},
   "outputs": [],
   "source": []
  }
 ],
 "metadata": {
  "kernelspec": {
   "display_name": "Python 3 (ipykernel)",
   "language": "python",
   "name": "python3"
  },
  "language_info": {
   "codemirror_mode": {
    "name": "ipython",
    "version": 3
   },
   "file_extension": ".py",
   "mimetype": "text/x-python",
   "name": "python",
   "nbconvert_exporter": "python",
   "pygments_lexer": "ipython3",
   "version": "3.11.5"
  }
 },
 "nbformat": 4,
 "nbformat_minor": 5
}
